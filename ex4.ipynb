{
 "cells": [
  {
   "cell_type": "code",
   "execution_count": 37,
   "metadata": {},
   "outputs": [],
   "source": [
    "'''imports required'''\n",
    "\n",
    "import numpy as np\n",
    "import math\n",
    "import matplotlib.pyplot as plt"
   ]
  },
  {
   "cell_type": "markdown",
   "metadata": {},
   "source": [
    "Task 1:\n",
    "\n",
    "We want to create an array of N evenly-spaced, consecutive numbers between 0 and 1 that we can use to\n",
    "plot a Gaussian distribution later. Write a function that takes an (integer) number N as input and returns an\n",
    "array of size N containing the evenly-spaced, consecutive numbers between 0 and 1. Use a for-loop in the\n",
    "function to create the array.\n",
    "For instance if the user sets N = 5 and sends N to the function, it will return an array [0.00 0.25 0.50 0.75\n",
    "1.00]\n",
    "Compare your results with the built-in Matlab function “linspace” (See Matlab help on linspace). Are the\n",
    "results the same? If not, what is the difference?"
   ]
  },
  {
   "cell_type": "code",
   "execution_count": 107,
   "metadata": {},
   "outputs": [],
   "source": [
    "'''generating coordinate axis'''\n",
    "\n",
    "N = input('Enter an integer value: ')\n",
    "coord_axis = []\n",
    "try:\n",
    "    N = int(N)\n",
    "except ValueError:\n",
    "    raise ValueError('Please enter an integer value')\n",
    "for i in range (N):\n",
    "    coord_axis.append(i/(N-1))"
   ]
  },
  {
   "cell_type": "markdown",
   "metadata": {},
   "source": [
    "Task 2:\n",
    "\n",
    "Using the coordinate axis generated in the previous task, use a for-loop to create an array that stores the\n",
    "value of a log-normal distribution function defined as follows:\n",
    "\n",
    "$f_i = \\frac{1}{x_i\\sigma\\sqrt{2\\pi}}e^{-\\frac{(ln(x_i-\\mu))^2}{2\\sigma^2}}$\n",
    "\n",
    "In the above equation, $x_i$ is the ith element of the coordinate array generated in task 1, $f_i$ is the $i^{th}$ element\n",
    "of the array containing the value of a log-normal distribution at the corresponding point $x_i$, and $\\mu$ and $\\sigma$ are\n",
    "parameters of the distribution; use values of -0.530 and 0.136 for $\\mu$ and $\\sigma$, respectively."
   ]
  },
  {
   "cell_type": "code",
   "execution_count": 108,
   "metadata": {},
   "outputs": [],
   "source": [
    "'''generating normal distribution for coordinate axis'''\n",
    "\n",
    "distrib_axis = []\n",
    "sigma = 0.136\n",
    "mu = -0.530\n",
    "\n",
    "def normal_distribution(x_i, mu, sigma):\n",
    "    normal_distib_output = (1/(x_i*sigma*math.sqrt(2*math.pi)))*math.exp(-0.5*((math.log(x_i)-mu)/sigma)**2)\n",
    "    return normal_distib_output\n",
    "\n",
    "for i in range(len(coord_axis)):\n",
    "    x_i = coord_axis[i]\n",
    "    if x_i == 0:\n",
    "        distrib_axis.append(0)\n",
    "    else:\n",
    "        distrib_value = normal_distribution(x_i, mu, sigma)\n",
    "        distrib_axis.append(distrib_value)"
   ]
  },
  {
   "cell_type": "markdown",
   "metadata": {},
   "source": [
    "Task 3:\n",
    "\n",
    "Using the information from the attached slides and exercise session lecture generate a function that plots\n",
    "the log-normal distribution function. The default MatLab plots are ugly, so we will set the properties of the\n",
    "figure, axes and plot objects using structures and set statements as well as built in functions to make it look\n",
    "nice. The plotting function should take the coordinate axis array, log-normal distribution array and two\n",
    "property structures as inputs and return nothing."
   ]
  },
  {
   "cell_type": "code",
   "execution_count": null,
   "metadata": {},
   "outputs": [],
   "source": [
    "'''plotting'''\n",
    "\n",
    "def harry_plotter(x_data, y_data):\n",
    "    plt.figure(figsize=(8, 5))\n",
    "    plt.plot(x_data, y_data, color='blue', linewidth=1, linestyle='-', marker=' ', markersize=3, label='f_i')  \n",
    "    plt.xlabel('x', fontsize=10) \n",
    "    plt.ylabel('Normal distribution', fontsize=10)\n",
    "    plt.title('Normal Distribution plot', fontsize=13)  \n",
    "    plt.grid(visible=True, linestyle='--', linewidth=0.4) \n",
    "    plt.legend(loc='best', fontsize=12) \n",
    "    plt.tight_layout()\n",
    "    plt.show()\n",
    "    return None\n",
    "\n",
    "harry_plotter(coord_axis, distrib_axis)"
   ]
  },
  {
   "cell_type": "markdown",
   "metadata": {},
   "source": [
    "Task 4:\n",
    "\n",
    "Use for-loops, if/then statements and/or while loops to find the following:\n",
    "\n",
    "a) The array index, x value, and y value of the distribution’s peak.\n",
    "\n",
    "b) The array index, x value, and y value of the distribution’s tailing edge.\n",
    "\n",
    "c) The array index, x value, and y value of the distribution’s leading edge.\n",
    "\n",
    "The leading and tailing edge of the distribution can be assumed to occur at the points where f(x) is less than\n",
    "0.1% of the y value at the peak of the distribution."
   ]
  },
  {
   "cell_type": "markdown",
   "metadata": {},
   "source": [
    "a)"
   ]
  },
  {
   "cell_type": "code",
   "execution_count": null,
   "metadata": {},
   "outputs": [],
   "source": [
    "'''maximum finder'''\n",
    "\n",
    "def max_finder(x_data, y_data):\n",
    "    max = 0\n",
    "    position = 0\n",
    "    for i in range(len(y_data)):\n",
    "        if y_data[i] > max:\n",
    "            max = x_data[i]\n",
    "            position = i\n",
    "    return position, max\n",
    "\n",
    "print(max_finder(coord_axis, distrib_axis))"
   ]
  },
  {
   "cell_type": "markdown",
   "metadata": {},
   "source": [
    "b)"
   ]
  },
  {
   "cell_type": "code",
   "execution_count": null,
   "metadata": {},
   "outputs": [],
   "source": [
    "'''tailing edge finder'''\n",
    "\n",
    "def tailing_edge_finder(x_data, y_data,max_x, max_y):\n",
    "    list = []\n",
    "    for i in range (len(y_data)):\n",
    "        if y_data[i] < max_y/1000 and x_data[i] > max_x:\n",
    "            list.append(i) \n",
    "    if len(list) == 0:\n",
    "        return 'No tailing edge found'\n",
    "    else:\n",
    "        tailing_edge_index = min(list)\n",
    "        tailing_edge_data = [tailing_edge_index, x_data[tailing_edge_index],y_data[tailing_edge_index]] \n",
    "        return f'The tailing edge can be found at index {tailing_edge_data[0]}, x = {tailing_edge_data[1]} and y = {tailing_edge_data[2]}'\n",
    "\n",
    "print(tailing_edge_finder(coord_axis, distrib_axis, max_finder(coord_axis, distrib_axis)[0], max_finder(coord_axis, distrib_axis)[1]))"
   ]
  },
  {
   "cell_type": "markdown",
   "metadata": {},
   "source": [
    "c)"
   ]
  },
  {
   "cell_type": "code",
   "execution_count": null,
   "metadata": {},
   "outputs": [],
   "source": [
    "'''leading edge finder'''\n",
    "\n",
    "def leading_edge_finder(x_data, y_data,max_x, max_y):\n",
    "    list = []\n",
    "    for i in range (len(y_data)):\n",
    "        if y_data[i] < max_y/1000 and x_data[i] < max_x:\n",
    "            list.append(i) \n",
    "    if len(list) == 0:\n",
    "        return 'No leading edge found'\n",
    "    else:\n",
    "        leading_edge_index = max(list)\n",
    "        '''tailing_edge_data = [leading_edge_index, x_data[leading_edge_index],y_data[leading_edge_index]]''' \n",
    "    return f'The leading edge can be found at index {leading_edge_index}, x = {x_data[leading_edge_index]} and y = {y_data[leading_edge_index]}'\n",
    "\n",
    "print(leading_edge_finder(coord_axis, distrib_axis, max_finder(coord_axis, distrib_axis)[0], max_finder(coord_axis, distrib_axis)[1]))"
   ]
  }
 ],
 "metadata": {
  "kernelspec": {
   "display_name": "ppchem",
   "language": "python",
   "name": "python3"
  },
  "language_info": {
   "codemirror_mode": {
    "name": "ipython",
    "version": 3
   },
   "file_extension": ".py",
   "mimetype": "text/x-python",
   "name": "python",
   "nbconvert_exporter": "python",
   "pygments_lexer": "ipython3",
   "version": "3.10.12"
  }
 },
 "nbformat": 4,
 "nbformat_minor": 2
}
